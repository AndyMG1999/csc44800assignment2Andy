{
 "cells": [
  {
   "cell_type": "markdown",
   "id": "b013941f",
   "metadata": {},
   "source": [
    "[![Open In Colab](https://colab.research.google.com/assets/colab-badge.svg)](https://colab.research.google.com/drive/1PUVVmdta6qFUO1nFetlHlTjyc7h1xn-1)"
   ]
  },
  {
   "cell_type": "markdown",
   "id": "9215110c",
   "metadata": {},
   "source": [
    "# Algorithm for Finding Optimizing Food Combinations"
   ]
  },
  {
   "cell_type": "markdown",
   "id": "3a615c6b",
   "metadata": {},
   "source": [
    "## How it works\n",
    "#### User would input various foods, their price, as well as how much protein, carbs, and fat there is. You would then need to input the desired amount of protein, carbs, and fat you want the food combination to have as well as the range in calories you would want it to fall under. In the output would be a food combination with at least the amount of protein, carbs, and fat you desire, within the caloric range that can be made in the least amount of money.\n",
    "\n",
    "## Example\n",
    "#### I am a business and want to make a product out of nutella, bananas, and nuts that has at least 15g of protein and is less than 500 calories. My algorithm can tell me how this can be possible in the least amount of money!"
   ]
  },
  {
   "cell_type": "code",
   "execution_count": 3,
   "id": "9db8c9fb",
   "metadata": {},
   "outputs": [
    {
     "name": "stdout",
     "output_type": "stream",
     "text": [
      "[<scipy.optimize._constraints.LinearConstraint object at 0x000001D37C178F10>, <scipy.optimize._constraints.LinearConstraint object at 0x000001D37C5C0A00>, <scipy.optimize._constraints.LinearConstraint object at 0x000001D37DE15A00>, <scipy.optimize._constraints.LinearConstraint object at 0x000001D37DE15A90>]\n",
      "     fun: 0.29179999999996165\n",
      "     jac: array([1.06, 0.37, 0.42, 0.3 , 3.08])\n",
      " message: 'Optimization terminated successfully'\n",
      "    nfev: 48\n",
      "     nit: 8\n",
      "    njev: 8\n",
      "  status: 0\n",
      " success: True\n",
      "       x: array([0.  , 0.14, 0.  , 0.8 , 0.  ])\n"
     ]
    }
   ],
   "source": [
    "import random\n",
    "from scipy.optimize import LinearConstraint\n",
    "from scipy.optimize import minimize\n",
    "from scipy.optimize import Bounds\n",
    "import numpy as np\n",
    "\n",
    "def optomizeFood(a,pVec,cVec,fVec,p,c,f,calLow,calHigh):  \n",
    "  stringFun = \"\"+str(a[0])+\"*x[0]\"\n",
    "  for i in range(1,len(a)):\n",
    "    stringFun += \"+\"+str(a[i])+\"*x[\"+str(i)+\"]\"\n",
    "  fun = lambda x: eval(stringFun)\n",
    "  calVector = []\n",
    "  for i in range(len(a)):\n",
    "    calVector.append( (pVec[i]*4)+(cVec[i]*4)+(fVec[i]*9) )\n",
    "  \n",
    "  constraint1 = LinearConstraint([pVec], [p], [float('inf')])\n",
    "  constraint2 = LinearConstraint([cVec],[c],[float('inf')])\n",
    "  constraint3 = LinearConstraint([fVec],[f],[float('inf')])\n",
    "  constraint4 = LinearConstraint([calVector],[calLow],[calHigh])\n",
    "  constraint5 = Bounds([0 for i in range(len(a))], [float('inf') for i in range(len(a))])\n",
    "  constraintArr = [constraint1, constraint2, constraint3, constraint4]\n",
    "  print(constraintArr)\n",
    "  initialGuess = np.array([1 for i in range(len(a))])\n",
    "  final = minimize(fun,initialGuess,bounds=constraint5,constraints=constraintArr)\n",
    "  print(final)\n",
    "\n",
    "# The Price of: Nutella, Sugar, Dry Rice, Peanut Butter, Whey Isolate\n",
    "priceVec = [1.06,0.37,0.42,0.30,3.08]\n",
    "proVec = [5,0,15,25,8]\n",
    "carVec = [62,100,75,20,8]\n",
    "fatVec = [30,0,1,50,4]\n",
    "\n",
    "# Minimum amount of protein, carbohydrates, and fat you need in the food combonation\n",
    "proMin = 20\n",
    "carMin = 30\n",
    "fatMin = 20\n",
    "\n",
    "# Minimum and maximum calories you want in the food combonation\n",
    "calMin = 300\n",
    "calMax = float('inf')\n",
    "\n",
    "optomizeFood(priceVec,proVec,carVec,fatVec,proMin,carMin,fatMin,calMin,calMax)"
   ]
  }
 ],
 "metadata": {
  "kernelspec": {
   "display_name": "Python 3",
   "language": "python",
   "name": "python3"
  },
  "language_info": {
   "codemirror_mode": {
    "name": "ipython",
    "version": 3
   },
   "file_extension": ".py",
   "mimetype": "text/x-python",
   "name": "python",
   "nbconvert_exporter": "python",
   "pygments_lexer": "ipython3",
   "version": "3.8.8"
  }
 },
 "nbformat": 4,
 "nbformat_minor": 5
}
